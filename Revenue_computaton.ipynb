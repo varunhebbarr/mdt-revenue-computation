{
 "cells": [
  {
   "cell_type": "code",
   "execution_count": 1,
   "metadata": {},
   "outputs": [],
   "source": [
    "import findspark\n",
    "findspark.init()\n",
    "from pyspark import SparkContext\n",
    "sc = SparkContext()"
   ]
  },
  {
   "cell_type": "code",
   "execution_count": 4,
   "metadata": {},
   "outputs": [
    {
     "name": "stdout",
     "output_type": "stream",
     "text": [
      " Volume in drive C is Acer\n",
      " Volume Serial Number is 2EDB-739C\n",
      "\n",
      " Directory of C:\\Users\\Varun Hebbar\\Documents\\CMU coursework\\Fall 2018\\MDT\\Assignments\\Assignment_2\n",
      "\n",
      "11/20/2018  05:22 PM    <DIR>          .\n",
      "11/20/2018  05:22 PM    <DIR>          ..\n",
      "11/20/2018  01:22 PM    <DIR>          .ipynb_checkpoints\n",
      "11/19/2018  11:39 PM            86,791 community_2_only.txt\n",
      "11/19/2018  08:28 PM             2,632 euler_path.py\n",
      "11/19/2018  07:54 PM             6,703 graph.txt\n",
      "11/13/2018  11:39 AM             6,171 Graph.xlsx\n",
      "11/19/2018  07:15 PM            41,006 MDT2018-HW2-Additional+notes.pdf\n",
      "11/13/2018  11:05 AM            18,565 MDT2018-HW2-graph.g\n",
      "11/19/2018  07:15 PM             2,303 MDT2018-HW2-targets.t\n",
      "11/19/2018  07:15 PM            49,687 MDT2018-HW2.pdf\n",
      "11/20/2018  01:45 PM            12,323 pyspark-exercises.ipynb\n",
      "11/20/2018  05:22 PM            17,472 Revenue_computaton.ipynb\n",
      "11/20/2018  10:43 AM            86,791 sim10data.txt\n",
      "11/20/2018  10:43 AM            86,791 sim1data.txt\n",
      "11/20/2018  10:43 AM            86,791 sim2data.txt\n",
      "11/20/2018  10:43 AM            86,791 sim3data.txt\n",
      "11/20/2018  10:43 AM            86,791 sim4data.txt\n",
      "11/20/2018  10:43 AM            86,791 sim5data.txt\n",
      "11/20/2018  10:43 AM            86,791 sim6data.txt\n",
      "11/20/2018  10:43 AM            86,791 sim7data.txt\n",
      "11/20/2018  10:43 AM            86,791 sim8data.txt\n",
      "11/20/2018  10:43 AM            86,791 sim9data.txt\n",
      "11/20/2018  01:30 PM    <DIR>          Textfiles_Influence_10\n",
      "11/20/2018  03:31 PM    <DIR>          Textfiles_Influence_10_Rerun\n",
      "11/20/2018  01:36 PM    <DIR>          Textfiles_Influence_12\n",
      "11/20/2018  01:47 PM    <DIR>          Textfiles_Influence_14\n",
      "11/20/2018  05:20 PM    <DIR>          Textfile_Influence_20\n",
      "              20 File(s)      1,111,563 bytes\n",
      "               8 Dir(s)  67,844,505,600 bytes free\n"
     ]
    }
   ],
   "source": [
    "!dir"
   ]
  },
  {
   "cell_type": "code",
   "execution_count": 24,
   "metadata": {},
   "outputs": [
    {
     "name": "stdout",
     "output_type": "stream",
     "text": [
      "Revenue - 5950\n",
      "Revenue - 4660\n",
      "Revenue - 5830\n",
      "Revenue - 6140\n",
      "Revenue - 4660\n",
      "Revenue - 4970\n",
      "Revenue - 6820\n",
      "Revenue - 5310\n",
      "Revenue - 5740\n",
      "Revenue - 4830\n",
      "Average total Revenue - 5491.0\n"
     ]
    }
   ],
   "source": [
    "import pandas\n",
    "\n",
    "total_revenue = 0\n",
    "\n",
    "# loop thorugh 10 simulation results to compute revenue in each trial\n",
    "for i in range (1,11):\n",
    "    \n",
    "    b1 = (sc.textFile('FinalDocumentStuff/sim'+str(i)+'data.txt')\n",
    "            .map(lambda line: line.split(','))\n",
    "            .map(lambda a: [int(a[0]),int(a[2])])\n",
    "            .groupByKey().map(lambda x : (x[0], sum(x[1]))).collect())\n",
    "    \n",
    "    # create a table for each simulation which has the time period and number of adopters \n",
    "    df = pandas.DataFrame(b1, columns=['time', 'adopters'])\n",
    "    df.sort_values(inplace=True,by='time')\n",
    "    \n",
    "    # Create 2 new columns called new adopters (adopters - initial 8 targets) & revenue calculated by multiplying\n",
    "    # new adopters value by 10\n",
    "    df['new_adopters'] = df['adopters'].map(lambda x: x-8)\n",
    "    df['revenue'] = df['new_adopters'].map(lambda x: x*10)\n",
    "    \n",
    "    # Sum up the revenue for all time periods to get the total revenue for the trial across all time periods\n",
    "    reveue = sum(df['revenue'])\n",
    "    \n",
    "    # Add the revenue value from one simulation with others to get the total revenue\n",
    "    total_revenue += reveue\n",
    "    print('Revenue - ' + str(reveue))\n",
    "\n",
    "# Compute the average revenue across all simulations\n",
    "print('Average total Revenue - ' + str(total_revenue/10))"
   ]
  },
  {
   "cell_type": "code",
   "execution_count": 23,
   "metadata": {},
   "outputs": [],
   "source": [
    "import glob\n",
    "import os\n",
    "\n",
    "linesToDelete = [1, 2, 3]\n",
    "\n",
    "for filename in glob.glob('*.d'):\n",
    "    f = open(filename,\"r\")\n",
    "    lines = f.readlines()\n",
    "    f.close()\n",
    "    lines[-1] = lines[-1].strip()\n",
    "\n",
    "    f = open(filename[:-2]+\".txt\",\"w\")\n",
    "    i = 0\n",
    "\n",
    "    for line in lines:\n",
    "        i += 1\n",
    "        if (i not in linesToDelete):\n",
    "            f.write(line)\n",
    "    \n",
    "    f.close()"
   ]
  },
  {
   "cell_type": "code",
   "execution_count": 22,
   "metadata": {},
   "outputs": [
    {
     "name": "stdout",
     "output_type": "stream",
     "text": [
      "Influence parameter12 - 16335.0\n",
      "Influence parameter14 - 51985.0\n",
      "Influence parameter16 - 69710.0\n",
      "Influence parameter18 - 77380.0\n",
      "Influence parameter20 - 81626.0\n"
     ]
    }
   ],
   "source": [
    "import pandas\n",
    "\n",
    "for j in [12,14,16,18,20]:\n",
    "    total_revenue = 0\n",
    "\n",
    "    # loop thorugh 10 simulation results to compute revenue in each trial\n",
    "    for i in range (1,11):\n",
    "\n",
    "        b1 = (sc.textFile('Textfiles_Influence_' + str(j) + '/sim'+str(i)+'data.txt')\n",
    "                .map(lambda line: line.split(','))\n",
    "                .map(lambda a: [int(a[0]),int(a[2])])\n",
    "                .groupByKey().map(lambda x : (x[0], sum(x[1]))).collect())\n",
    "\n",
    "        # create a table for each simulation which has the time period and number of adopters \n",
    "        df = pandas.DataFrame(b1, columns=['time', 'adopters'])\n",
    "        df.sort_values(inplace=True,by='time')\n",
    "\n",
    "        # Create 2 new columns called new adopters (adopters - initial 8 targets) & revenue calculated by multiplying\n",
    "        # new adopters value by 10\n",
    "        df['new_adopters'] = df['adopters'].map(lambda x: x-8)\n",
    "        df['revenue'] = df['new_adopters'].map(lambda x: x*10)\n",
    "\n",
    "        # Sum up the revenue for all time periods to get the total revenue for the trial across all time periods\n",
    "        reveue = sum(df['revenue'])\n",
    "\n",
    "        # Add the revenue value from one simulation with others to get the total revenue\n",
    "        total_revenue += reveue\n",
    "        #print('Revenue - ' + str(reveue))\n",
    "\n",
    "    # Compute the average revenue across all simulations\n",
    "    print('Influence parameter'+ str(j) + ' - ' + str(total_revenue/10))"
   ]
  }
 ],
 "metadata": {
  "kernelspec": {
   "display_name": "Python 3",
   "language": "python",
   "name": "python3"
  },
  "language_info": {
   "codemirror_mode": {
    "name": "ipython",
    "version": 3
   },
   "file_extension": ".py",
   "mimetype": "text/x-python",
   "name": "python",
   "nbconvert_exporter": "python",
   "pygments_lexer": "ipython3",
   "version": "3.6.3"
  }
 },
 "nbformat": 4,
 "nbformat_minor": 2
}
